{
 "cells": [
  {
   "cell_type": "code",
   "execution_count": 1,
   "id": "6ec2f7c8",
   "metadata": {},
   "outputs": [],
   "source": [
    "import numpy as np\n",
    "import pandas as pd\n",
    "\n",
    "from queue import PriorityQueue\n",
    "import networkx as nx\n",
    "from pyvis.network import Network"
   ]
  },
  {
   "cell_type": "code",
   "execution_count": 2,
   "id": "8d8d0c83",
   "metadata": {},
   "outputs": [],
   "source": [
    "movies_df = pd.read_csv('data/movies_data.csv')\n",
    "cast_df = pd.read_csv('data/cast_data.csv')\n",
    "cast_and_movies_df = pd.read_csv('data/cast_and_movies_data.csv')"
   ]
  },
  {
   "cell_type": "code",
   "execution_count": 3,
   "id": "e50d67fe",
   "metadata": {},
   "outputs": [
    {
     "data": {
      "text/html": [
       "<div>\n",
       "<style scoped>\n",
       "    .dataframe tbody tr th:only-of-type {\n",
       "        vertical-align: middle;\n",
       "    }\n",
       "\n",
       "    .dataframe tbody tr th {\n",
       "        vertical-align: top;\n",
       "    }\n",
       "\n",
       "    .dataframe thead th {\n",
       "        text-align: right;\n",
       "    }\n",
       "</style>\n",
       "<table border=\"1\" class=\"dataframe\">\n",
       "  <thead>\n",
       "    <tr style=\"text-align: right;\">\n",
       "      <th></th>\n",
       "      <th>id</th>\n",
       "      <th>title</th>\n",
       "      <th>year</th>\n",
       "    </tr>\n",
       "  </thead>\n",
       "  <tbody>\n",
       "    <tr>\n",
       "      <th>0</th>\n",
       "      <td>15724</td>\n",
       "      <td>Dama de noche</td>\n",
       "      <td>1993</td>\n",
       "    </tr>\n",
       "    <tr>\n",
       "      <th>1</th>\n",
       "      <td>23331</td>\n",
       "      <td>Pesn o geroyakh</td>\n",
       "      <td>1983</td>\n",
       "    </tr>\n",
       "    <tr>\n",
       "      <th>2</th>\n",
       "      <td>31458</td>\n",
       "      <td>El huésped del sevillano</td>\n",
       "      <td>1970</td>\n",
       "    </tr>\n",
       "    <tr>\n",
       "      <th>3</th>\n",
       "      <td>35423</td>\n",
       "      <td>Kate &amp; Leopold</td>\n",
       "      <td>2001</td>\n",
       "    </tr>\n",
       "    <tr>\n",
       "      <th>4</th>\n",
       "      <td>36606</td>\n",
       "      <td>Another Time, Another Place</td>\n",
       "      <td>1983</td>\n",
       "    </tr>\n",
       "  </tbody>\n",
       "</table>\n",
       "</div>"
      ],
      "text/plain": [
       "      id                        title  year\n",
       "0  15724                Dama de noche  1993\n",
       "1  23331              Pesn o geroyakh  1983\n",
       "2  31458     El huésped del sevillano  1970\n",
       "3  35423               Kate & Leopold  2001\n",
       "4  36606  Another Time, Another Place  1983"
      ]
     },
     "execution_count": 3,
     "metadata": {},
     "output_type": "execute_result"
    }
   ],
   "source": [
    "movies_df.head()"
   ]
  },
  {
   "cell_type": "code",
   "execution_count": 4,
   "id": "a7a201d9",
   "metadata": {},
   "outputs": [
    {
     "data": {
      "text/html": [
       "<div>\n",
       "<style scoped>\n",
       "    .dataframe tbody tr th:only-of-type {\n",
       "        vertical-align: middle;\n",
       "    }\n",
       "\n",
       "    .dataframe tbody tr th {\n",
       "        vertical-align: top;\n",
       "    }\n",
       "\n",
       "    .dataframe thead th {\n",
       "        text-align: right;\n",
       "    }\n",
       "</style>\n",
       "<table border=\"1\" class=\"dataframe\">\n",
       "  <thead>\n",
       "    <tr style=\"text-align: right;\">\n",
       "      <th></th>\n",
       "      <th>id</th>\n",
       "      <th>name</th>\n",
       "      <th>birth</th>\n",
       "    </tr>\n",
       "  </thead>\n",
       "  <tbody>\n",
       "    <tr>\n",
       "      <th>0</th>\n",
       "      <td>1</td>\n",
       "      <td>Fred Astaire</td>\n",
       "      <td>1899.0</td>\n",
       "    </tr>\n",
       "    <tr>\n",
       "      <th>1</th>\n",
       "      <td>2</td>\n",
       "      <td>Lauren Bacall</td>\n",
       "      <td>1924.0</td>\n",
       "    </tr>\n",
       "    <tr>\n",
       "      <th>2</th>\n",
       "      <td>3</td>\n",
       "      <td>Brigitte Bardot</td>\n",
       "      <td>1934.0</td>\n",
       "    </tr>\n",
       "    <tr>\n",
       "      <th>3</th>\n",
       "      <td>4</td>\n",
       "      <td>John Belushi</td>\n",
       "      <td>1949.0</td>\n",
       "    </tr>\n",
       "    <tr>\n",
       "      <th>4</th>\n",
       "      <td>5</td>\n",
       "      <td>Ingmar Bergman</td>\n",
       "      <td>1918.0</td>\n",
       "    </tr>\n",
       "  </tbody>\n",
       "</table>\n",
       "</div>"
      ],
      "text/plain": [
       "   id             name   birth\n",
       "0   1     Fred Astaire  1899.0\n",
       "1   2    Lauren Bacall  1924.0\n",
       "2   3  Brigitte Bardot  1934.0\n",
       "3   4     John Belushi  1949.0\n",
       "4   5   Ingmar Bergman  1918.0"
      ]
     },
     "execution_count": 4,
     "metadata": {},
     "output_type": "execute_result"
    }
   ],
   "source": [
    "cast_df.head()"
   ]
  },
  {
   "cell_type": "code",
   "execution_count": 5,
   "id": "0ebeeeff",
   "metadata": {},
   "outputs": [
    {
     "data": {
      "text/html": [
       "<div>\n",
       "<style scoped>\n",
       "    .dataframe tbody tr th:only-of-type {\n",
       "        vertical-align: middle;\n",
       "    }\n",
       "\n",
       "    .dataframe tbody tr th {\n",
       "        vertical-align: top;\n",
       "    }\n",
       "\n",
       "    .dataframe thead th {\n",
       "        text-align: right;\n",
       "    }\n",
       "</style>\n",
       "<table border=\"1\" class=\"dataframe\">\n",
       "  <thead>\n",
       "    <tr style=\"text-align: right;\">\n",
       "      <th></th>\n",
       "      <th>person_id</th>\n",
       "      <th>movie_id</th>\n",
       "    </tr>\n",
       "  </thead>\n",
       "  <tbody>\n",
       "    <tr>\n",
       "      <th>0</th>\n",
       "      <td>844752</td>\n",
       "      <td>15724</td>\n",
       "    </tr>\n",
       "    <tr>\n",
       "      <th>1</th>\n",
       "      <td>869732</td>\n",
       "      <td>15724</td>\n",
       "    </tr>\n",
       "    <tr>\n",
       "      <th>2</th>\n",
       "      <td>194720</td>\n",
       "      <td>15724</td>\n",
       "    </tr>\n",
       "    <tr>\n",
       "      <th>3</th>\n",
       "      <td>650495</td>\n",
       "      <td>15724</td>\n",
       "    </tr>\n",
       "    <tr>\n",
       "      <th>4</th>\n",
       "      <td>8738</td>\n",
       "      <td>31458</td>\n",
       "    </tr>\n",
       "  </tbody>\n",
       "</table>\n",
       "</div>"
      ],
      "text/plain": [
       "   person_id  movie_id\n",
       "0     844752     15724\n",
       "1     869732     15724\n",
       "2     194720     15724\n",
       "3     650495     15724\n",
       "4       8738     31458"
      ]
     },
     "execution_count": 5,
     "metadata": {},
     "output_type": "execute_result"
    }
   ],
   "source": [
    "cast_and_movies_df.head()"
   ]
  },
  {
   "cell_type": "code",
   "execution_count": 6,
   "id": "43d98ff3",
   "metadata": {
    "scrolled": false
   },
   "outputs": [],
   "source": [
    "graph = [tuple(x) for x in cast_and_movies_df.values]"
   ]
  },
  {
   "cell_type": "code",
   "execution_count": 7,
   "id": "985181dc",
   "metadata": {},
   "outputs": [],
   "source": [
    "cast_movie_by_id = cast_df.rename(columns={'id': 'person_id'}).drop('birth', axis=1).join(cast_and_movies_df.set_index('person_id'), on='person_id')\n",
    "\n",
    "cast_movie_by_id = cast_movie_by_id.join(movies_df.rename(columns={'id': 'movie_id'}).set_index('movie_id'), on='movie_id')"
   ]
  },
  {
   "cell_type": "code",
   "execution_count": 8,
   "id": "4e1fc925",
   "metadata": {},
   "outputs": [
    {
     "data": {
      "text/html": [
       "<div>\n",
       "<style scoped>\n",
       "    .dataframe tbody tr th:only-of-type {\n",
       "        vertical-align: middle;\n",
       "    }\n",
       "\n",
       "    .dataframe tbody tr th {\n",
       "        vertical-align: top;\n",
       "    }\n",
       "\n",
       "    .dataframe thead th {\n",
       "        text-align: right;\n",
       "    }\n",
       "</style>\n",
       "<table border=\"1\" class=\"dataframe\">\n",
       "  <thead>\n",
       "    <tr style=\"text-align: right;\">\n",
       "      <th></th>\n",
       "      <th>person_id</th>\n",
       "      <th>name</th>\n",
       "      <th>movie_id</th>\n",
       "      <th>title</th>\n",
       "      <th>year</th>\n",
       "    </tr>\n",
       "  </thead>\n",
       "  <tbody>\n",
       "    <tr>\n",
       "      <th>0</th>\n",
       "      <td>1</td>\n",
       "      <td>Fred Astaire</td>\n",
       "      <td>72272.0</td>\n",
       "      <td>That's Entertainment!</td>\n",
       "      <td>1974.0</td>\n",
       "    </tr>\n",
       "    <tr>\n",
       "      <th>0</th>\n",
       "      <td>1</td>\n",
       "      <td>Fred Astaire</td>\n",
       "      <td>74130.0</td>\n",
       "      <td>The Amazing Dobermans</td>\n",
       "      <td>1976.0</td>\n",
       "    </tr>\n",
       "    <tr>\n",
       "      <th>0</th>\n",
       "      <td>1</td>\n",
       "      <td>Fred Astaire</td>\n",
       "      <td>75323.0</td>\n",
       "      <td>That's Entertainment, Part II</td>\n",
       "      <td>1976.0</td>\n",
       "    </tr>\n",
       "    <tr>\n",
       "      <th>0</th>\n",
       "      <td>1</td>\n",
       "      <td>Fred Astaire</td>\n",
       "      <td>76851.0</td>\n",
       "      <td>The Purple Taxi</td>\n",
       "      <td>1977.0</td>\n",
       "    </tr>\n",
       "    <tr>\n",
       "      <th>0</th>\n",
       "      <td>1</td>\n",
       "      <td>Fred Astaire</td>\n",
       "      <td>82449.0</td>\n",
       "      <td>Ghost Story</td>\n",
       "      <td>1981.0</td>\n",
       "    </tr>\n",
       "    <tr>\n",
       "      <th>...</th>\n",
       "      <td>...</td>\n",
       "      <td>...</td>\n",
       "      <td>...</td>\n",
       "      <td>...</td>\n",
       "      <td>...</td>\n",
       "    </tr>\n",
       "    <tr>\n",
       "      <th>1044494</th>\n",
       "      <td>11077515</td>\n",
       "      <td>Rosemary Sever</td>\n",
       "      <td>8717064.0</td>\n",
       "      <td>Chained the Movie</td>\n",
       "      <td>2018.0</td>\n",
       "    </tr>\n",
       "    <tr>\n",
       "      <th>1044495</th>\n",
       "      <td>11077516</td>\n",
       "      <td>Sheerice</td>\n",
       "      <td>8717064.0</td>\n",
       "      <td>Chained the Movie</td>\n",
       "      <td>2018.0</td>\n",
       "    </tr>\n",
       "    <tr>\n",
       "      <th>1044496</th>\n",
       "      <td>11077517</td>\n",
       "      <td>Lexie Jose</td>\n",
       "      <td>8717064.0</td>\n",
       "      <td>Chained the Movie</td>\n",
       "      <td>2018.0</td>\n",
       "    </tr>\n",
       "    <tr>\n",
       "      <th>1044497</th>\n",
       "      <td>11077518</td>\n",
       "      <td>Sheerice Martinez</td>\n",
       "      <td>NaN</td>\n",
       "      <td>NaN</td>\n",
       "      <td>NaN</td>\n",
       "    </tr>\n",
       "    <tr>\n",
       "      <th>1044498</th>\n",
       "      <td>11077519</td>\n",
       "      <td>Kisha Morales</td>\n",
       "      <td>NaN</td>\n",
       "      <td>NaN</td>\n",
       "      <td>NaN</td>\n",
       "    </tr>\n",
       "  </tbody>\n",
       "</table>\n",
       "<p>1693200 rows × 5 columns</p>\n",
       "</div>"
      ],
      "text/plain": [
       "         person_id               name   movie_id  \\\n",
       "0                1       Fred Astaire    72272.0   \n",
       "0                1       Fred Astaire    74130.0   \n",
       "0                1       Fred Astaire    75323.0   \n",
       "0                1       Fred Astaire    76851.0   \n",
       "0                1       Fred Astaire    82449.0   \n",
       "...            ...                ...        ...   \n",
       "1044494   11077515     Rosemary Sever  8717064.0   \n",
       "1044495   11077516           Sheerice  8717064.0   \n",
       "1044496   11077517         Lexie Jose  8717064.0   \n",
       "1044497   11077518  Sheerice Martinez        NaN   \n",
       "1044498   11077519      Kisha Morales        NaN   \n",
       "\n",
       "                                 title    year  \n",
       "0                That's Entertainment!  1974.0  \n",
       "0                The Amazing Dobermans  1976.0  \n",
       "0        That's Entertainment, Part II  1976.0  \n",
       "0                      The Purple Taxi  1977.0  \n",
       "0                          Ghost Story  1981.0  \n",
       "...                                ...     ...  \n",
       "1044494              Chained the Movie  2018.0  \n",
       "1044495              Chained the Movie  2018.0  \n",
       "1044496              Chained the Movie  2018.0  \n",
       "1044497                            NaN     NaN  \n",
       "1044498                            NaN     NaN  \n",
       "\n",
       "[1693200 rows x 5 columns]"
      ]
     },
     "execution_count": 8,
     "metadata": {},
     "output_type": "execute_result"
    }
   ],
   "source": [
    "cast_movie_by_id"
   ]
  },
  {
   "cell_type": "markdown",
   "id": "bb0cba12",
   "metadata": {},
   "source": [
    "# Graph construction"
   ]
  },
  {
   "cell_type": "code",
   "execution_count": 9,
   "id": "5c6f78d6",
   "metadata": {},
   "outputs": [],
   "source": [
    "import queue"
   ]
  },
  {
   "cell_type": "code",
   "execution_count": 10,
   "id": "1fb3e2b3",
   "metadata": {},
   "outputs": [],
   "source": [
    "def minEdgeBFS(edges, u, v, n):\n",
    "    \n",
    "    # visited[n] for keeping track\n",
    "    # of visited node in BFS\n",
    "    visited = [0] * n\n",
    "\n",
    "    # Initialize distances as 0\n",
    "    distance = [0] * n\n",
    "\n",
    "    # queue to do BFS.\n",
    "    Q = queue.Queue()\n",
    "    distance[u] = 0\n",
    "\n",
    "    Q.put(u)\n",
    "    visited[u] = True\n",
    "    while (not Q.empty()):\n",
    "        x = Q.get()\n",
    "        \n",
    "        for i in range(len(edges[x])):\n",
    "            if (visited[edges[x][i]]):\n",
    "                continue\n",
    "\n",
    "            # update distance for i\n",
    "            distance[edges[x][i]] = distance[x] + 1\n",
    "            Q.put(edges[x][i])\n",
    "            visited[edges[x][i]] = 1\n",
    "    return distance[v]\n",
    "\n",
    "# function for addition of edge\n",
    "def addEdge(edges, u, v):\n",
    "    edges[u].append(v)\n",
    "    edges[v].append(u)"
   ]
  },
  {
   "cell_type": "code",
   "execution_count": 11,
   "id": "04719930",
   "metadata": {},
   "outputs": [],
   "source": [
    "kevin_bacon_id = 102"
   ]
  },
  {
   "cell_type": "code",
   "execution_count": 184,
   "id": "d4840b47",
   "metadata": {},
   "outputs": [],
   "source": [
    "kevin_bacon_df = cast_and_movies_df[cast_and_movies_df['person_id'] == kevin_bacon_id]\n",
    "cast_and_movies_df_without_bacon = cast_and_movies_df[cast_and_movies_df['person_id'] != kevin_bacon_id]\n",
    "\n",
    "sample_ids = pd.Series(cast_and_movies_df_without_bacon['person_id'].unique()).sample(frac=0.3).unique()\n",
    "\n",
    "sampled_cast_movies_df = cast_and_movies_df[cast_and_movies_df['person_id'].isin(sample_ids)]\n",
    "sampled_cast_movies_df = pd.concat([sampled_cast_movies_df, kevin_bacon_df])"
   ]
  },
  {
   "cell_type": "code",
   "execution_count": 185,
   "id": "23f5c5b3",
   "metadata": {},
   "outputs": [
    {
     "data": {
      "text/html": [
       "<div>\n",
       "<style scoped>\n",
       "    .dataframe tbody tr th:only-of-type {\n",
       "        vertical-align: middle;\n",
       "    }\n",
       "\n",
       "    .dataframe tbody tr th {\n",
       "        vertical-align: top;\n",
       "    }\n",
       "\n",
       "    .dataframe thead th {\n",
       "        text-align: right;\n",
       "    }\n",
       "</style>\n",
       "<table border=\"1\" class=\"dataframe\">\n",
       "  <thead>\n",
       "    <tr style=\"text-align: right;\">\n",
       "      <th></th>\n",
       "      <th>person_id</th>\n",
       "      <th>movie_id</th>\n",
       "    </tr>\n",
       "  </thead>\n",
       "  <tbody>\n",
       "    <tr>\n",
       "      <th>0</th>\n",
       "      <td>844752</td>\n",
       "      <td>15724</td>\n",
       "    </tr>\n",
       "    <tr>\n",
       "      <th>2</th>\n",
       "      <td>194720</td>\n",
       "      <td>15724</td>\n",
       "    </tr>\n",
       "    <tr>\n",
       "      <th>3</th>\n",
       "      <td>650495</td>\n",
       "      <td>15724</td>\n",
       "    </tr>\n",
       "    <tr>\n",
       "      <th>5</th>\n",
       "      <td>19177</td>\n",
       "      <td>31458</td>\n",
       "    </tr>\n",
       "    <tr>\n",
       "      <th>27</th>\n",
       "      <td>735911</td>\n",
       "      <td>57461</td>\n",
       "    </tr>\n",
       "    <tr>\n",
       "      <th>...</th>\n",
       "      <td>...</td>\n",
       "      <td>...</td>\n",
       "    </tr>\n",
       "    <tr>\n",
       "      <th>864010</th>\n",
       "      <td>102</td>\n",
       "      <td>3696140</td>\n",
       "    </tr>\n",
       "    <tr>\n",
       "      <th>873851</th>\n",
       "      <td>102</td>\n",
       "      <td>3813310</td>\n",
       "    </tr>\n",
       "    <tr>\n",
       "      <th>895310</th>\n",
       "      <td>102</td>\n",
       "      <td>4128724</td>\n",
       "    </tr>\n",
       "    <tr>\n",
       "      <th>920303</th>\n",
       "      <td>102</td>\n",
       "      <td>4519562</td>\n",
       "    </tr>\n",
       "    <tr>\n",
       "      <th>1186898</th>\n",
       "      <td>102</td>\n",
       "      <td>9833362</td>\n",
       "    </tr>\n",
       "  </tbody>\n",
       "</table>\n",
       "<p>358474 rows × 2 columns</p>\n",
       "</div>"
      ],
      "text/plain": [
       "         person_id  movie_id\n",
       "0           844752     15724\n",
       "2           194720     15724\n",
       "3           650495     15724\n",
       "5            19177     31458\n",
       "27          735911     57461\n",
       "...            ...       ...\n",
       "864010         102   3696140\n",
       "873851         102   3813310\n",
       "895310         102   4128724\n",
       "920303         102   4519562\n",
       "1186898        102   9833362\n",
       "\n",
       "[358474 rows x 2 columns]"
      ]
     },
     "execution_count": 185,
     "metadata": {},
     "output_type": "execute_result"
    }
   ],
   "source": [
    "sampled_cast_movies_df"
   ]
  },
  {
   "cell_type": "code",
   "execution_count": 186,
   "id": "e6cc366f",
   "metadata": {},
   "outputs": [],
   "source": [
    "person_nodes = {}\n",
    "for i, value in enumerate(sampled_cast_movies_df['person_id'].sort_values().unique()):\n",
    "    person_nodes[i] = value"
   ]
  },
  {
   "cell_type": "code",
   "execution_count": 187,
   "id": "46852ec0",
   "metadata": {},
   "outputs": [
    {
     "data": {
      "text/plain": [
       "162210"
      ]
     },
     "execution_count": 187,
     "metadata": {},
     "output_type": "execute_result"
    }
   ],
   "source": [
    "len(person_nodes)"
   ]
  },
  {
   "cell_type": "code",
   "execution_count": 188,
   "id": "a0857427",
   "metadata": {},
   "outputs": [],
   "source": [
    "movie_edges = {}\n",
    "for i, value in enumerate(sampled_cast_movies_df['movie_id'].sort_values().unique()):\n",
    "    movie_edges[i] = value"
   ]
  },
  {
   "cell_type": "code",
   "execution_count": 189,
   "id": "0dabb45e",
   "metadata": {},
   "outputs": [
    {
     "data": {
      "text/plain": [
       "209053"
      ]
     },
     "execution_count": 189,
     "metadata": {},
     "output_type": "execute_result"
    }
   ],
   "source": [
    "len(movie_edges)"
   ]
  },
  {
   "cell_type": "code",
   "execution_count": 190,
   "id": "a185efbf",
   "metadata": {},
   "outputs": [],
   "source": [
    "n = len(movie_edges)\n",
    "edges = [[] for i in range(n)]\n",
    "\n",
    "for i in sampled_cast_movies_df.values:\n",
    "    p_node_value = i[0]\n",
    "    m_edge_value = i[1]\n",
    "\n",
    "    p_node = list(person_nodes.keys())[list(person_nodes.values()).index(p_node_value)]\n",
    "    m_edge = list(movie_edges.keys())[list(movie_edges.values()).index(m_edge_value)]\n",
    "    \n",
    "    addEdge(edges, m_edge, p_node)"
   ]
  },
  {
   "cell_type": "code",
   "execution_count": 280,
   "id": "44dcb0a3",
   "metadata": {},
   "outputs": [],
   "source": [
    "# G = nx.Graph()\n",
    "\n",
    "# net = Network(notebook=True)\n",
    "\n",
    "# net.from_nx(G)\n",
    "\n",
    "# net.show('graph.html')"
   ]
  },
  {
   "cell_type": "code",
   "execution_count": 191,
   "id": "34fd2c9a",
   "metadata": {},
   "outputs": [],
   "source": [
    "# pd.DataFrame(edges).to_csv('graph.csv')"
   ]
  },
  {
   "cell_type": "code",
   "execution_count": 399,
   "id": "5cde9f49",
   "metadata": {},
   "outputs": [],
   "source": [
    "# sampled_cast_movies_df.to_csv('data/sampled_cast_and_movies_data.csv', index=False)"
   ]
  },
  {
   "cell_type": "markdown",
   "id": "060ba029",
   "metadata": {},
   "source": [
    "# Executing Breadth-First Search (BFS)"
   ]
  },
  {
   "cell_type": "code",
   "execution_count": 401,
   "id": "ed1901ba",
   "metadata": {},
   "outputs": [],
   "source": [
    "sampled_cast_movies_df = pd.read_csv('data/sampled_cast_and_movies_data.csv')"
   ]
  },
  {
   "cell_type": "code",
   "execution_count": 192,
   "id": "3f3d24e5",
   "metadata": {},
   "outputs": [],
   "source": [
    "graph = pd.read_csv('graph.csv', sep=',').drop('Unnamed: 0', axis=1)\n",
    "graph = [graph.iloc[i].dropna().astype(int).to_list() for i in graph.index]"
   ]
  },
  {
   "cell_type": "code",
   "execution_count": 391,
   "id": "6458a56f",
   "metadata": {},
   "outputs": [],
   "source": [
    "example_id = sampled_cast_movies_df.sample(1).values[0][0]\n",
    "example_name = cast_df[cast_df['id'] == example_id]['name'].iloc[0]\n",
    "example_id_graph_node = list(person_nodes.keys())[list(person_nodes.values()).index(example_id)]"
   ]
  },
  {
   "cell_type": "code",
   "execution_count": 392,
   "id": "d2938a93",
   "metadata": {},
   "outputs": [],
   "source": [
    "kevin_bacon_id_graph_node = list(person_nodes.keys())[list(person_nodes.values()).index(kevin_bacon_id)]"
   ]
  },
  {
   "cell_type": "code",
   "execution_count": 393,
   "id": "60061fc2",
   "metadata": {},
   "outputs": [
    {
     "data": {
      "text/html": [
       "<div>\n",
       "<style scoped>\n",
       "    .dataframe tbody tr th:only-of-type {\n",
       "        vertical-align: middle;\n",
       "    }\n",
       "\n",
       "    .dataframe tbody tr th {\n",
       "        vertical-align: top;\n",
       "    }\n",
       "\n",
       "    .dataframe thead th {\n",
       "        text-align: right;\n",
       "    }\n",
       "</style>\n",
       "<table border=\"1\" class=\"dataframe\">\n",
       "  <thead>\n",
       "    <tr style=\"text-align: right;\">\n",
       "      <th></th>\n",
       "      <th>id</th>\n",
       "      <th>name</th>\n",
       "      <th>birth</th>\n",
       "    </tr>\n",
       "  </thead>\n",
       "  <tbody>\n",
       "    <tr>\n",
       "      <th>178867</th>\n",
       "      <td>736622</td>\n",
       "      <td>Seth Rogen</td>\n",
       "      <td>1982.0</td>\n",
       "    </tr>\n",
       "  </tbody>\n",
       "</table>\n",
       "</div>"
      ],
      "text/plain": [
       "            id        name   birth\n",
       "178867  736622  Seth Rogen  1982.0"
      ]
     },
     "execution_count": 393,
     "metadata": {},
     "output_type": "execute_result"
    }
   ],
   "source": [
    "# randomly chosen actor\n",
    "cast_df[cast_df['id'] == example_id]"
   ]
  },
  {
   "cell_type": "code",
   "execution_count": 394,
   "id": "87f11685",
   "metadata": {},
   "outputs": [
    {
     "name": "stdout",
     "output_type": "stream",
     "text": [
      "Seth Rogen is 4 movies away from Kevin Bacon.\n"
     ]
    }
   ],
   "source": [
    "n = len(graph)\n",
    "result = minEdgeBFS(graph, example_id_graph_node, kevin_bacon_id_graph_node, n)\n",
    "print(f\"{example_name} is {result} movies away from Kevin Bacon.\")"
   ]
  },
  {
   "cell_type": "code",
   "execution_count": null,
   "id": "46b1ad1a",
   "metadata": {},
   "outputs": [],
   "source": []
  }
 ],
 "metadata": {
  "kernelspec": {
   "display_name": "Python 3",
   "language": "python",
   "name": "python3"
  },
  "language_info": {
   "codemirror_mode": {
    "name": "ipython",
    "version": 3
   },
   "file_extension": ".py",
   "mimetype": "text/x-python",
   "name": "python",
   "nbconvert_exporter": "python",
   "pygments_lexer": "ipython3",
   "version": "3.9.7"
  }
 },
 "nbformat": 4,
 "nbformat_minor": 5
}
